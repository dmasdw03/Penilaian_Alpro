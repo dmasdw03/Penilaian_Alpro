{
  "nbformat": 4,
  "nbformat_minor": 0,
  "metadata": {
    "colab": {
      "provenance": []
    },
    "kernelspec": {
      "name": "python3",
      "display_name": "Python 3"
    },
    "language_info": {
      "name": "python"
    }
  },
  "cells": [
    {
      "cell_type": "code",
      "source": [
        "r = float(input(\"Masukkan jari-jari: \"))\n",
        "luas_lingkaran = 3.14 * r * r\n",
        "print(luas_lingkaran)"
      ],
      "metadata": {
        "id": "QOr5x1rnjZ8F",
        "outputId": "b2708788-ba2e-4829-f580-42452e6774d2",
        "colab": {
          "base_uri": "https://localhost:8080/"
        }
      },
      "execution_count": 3,
      "outputs": [
        {
          "output_type": "stream",
          "name": "stdout",
          "text": [
            "Masukkan jari-jari: 10\n",
            "314.0\n"
          ]
        }
      ]
    }
  ]
}