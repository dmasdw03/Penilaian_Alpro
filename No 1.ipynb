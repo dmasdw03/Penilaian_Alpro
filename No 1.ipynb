{
  "nbformat": 4,
  "nbformat_minor": 0,
  "metadata": {
    "colab": {
      "provenance": []
    },
    "kernelspec": {
      "name": "python3",
      "display_name": "Python 3"
    },
    "language_info": {
      "name": "python"
    }
  },
  "cells": [
    {
      "cell_type": "code",
      "execution_count": 2,
      "metadata": {
        "id": "28PrdjZxOavz",
        "outputId": "4bc343b2-49da-4cee-e67c-fd8d6259c3b9",
        "colab": {
          "base_uri": "https://localhost:8080/"
        }
      },
      "outputs": [
        {
          "output_type": "stream",
          "name": "stdout",
          "text": [
            "Masukkan nilai n: 10\n",
            "1\n",
            "3\n",
            "6\n",
            "10\n",
            "15\n",
            "21\n",
            "28\n",
            "36\n",
            "45\n",
            "55\n"
          ]
        }
      ],
      "source": [
        "n = int(input(\"Masukkan nilai n: \"))\n",
        "total = 0\n",
        "for i in range (1, n+1):\n",
        "  total +=i\n",
        "  print(total)"
      ]
    }
  ]
}